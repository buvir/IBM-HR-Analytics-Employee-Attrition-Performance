{
 "cells": [
  {
   "cell_type": "markdown",
   "id": "7e4c170f",
   "metadata": {},
   "source": [
    "# IBM HR Analytics – Employee Attrition & Performance\n",
    "*Generated on 2025-10-07 10:32 (EDA + ML + Advanced)*\n"
   ]
  },
  {
   "cell_type": "code",
   "execution_count": null,
   "id": "cc9e916a",
   "metadata": {},
   "outputs": [],
   "source": [
    "import os, glob, warnings\n",
    "warnings.filterwarnings('ignore')\n",
    "import numpy as np, pandas as pd, matplotlib.pyplot as plt\n",
    "from sklearn.model_selection import train_test_split, StratifiedKFold, cross_val_score\n",
    "from sklearn.preprocessing import OneHotEncoder, StandardScaler\n",
    "from sklearn.compose import ColumnTransformer\n",
    "from sklearn.pipeline import Pipeline\n",
    "from sklearn.metrics import (accuracy_score, precision_score, recall_score, f1_score,\n",
    "                             roc_auc_score, confusion_matrix, RocCurveDisplay)\n",
    "from sklearn.linear_model import LogisticRegression\n",
    "from sklearn.ensemble import RandomForestClassifier\n",
    "import sys, sklearn\n",
    "print('Python:', sys.version.split()[0])\n",
    "print('scikit-learn:', sklearn.__version__)\n",
    "print('pandas:', pd.__version__)"
   ]
  },
  {
   "cell_type": "markdown",
   "id": "b39f56f9",
   "metadata": {},
   "source": [
    "## Load dataset"
   ]
  },
  {
   "cell_type": "code",
   "execution_count": null,
   "id": "2460b5c6",
   "metadata": {},
   "outputs": [],
   "source": [
    "search_patterns = [\n",
    "    '/mnt/data/WA_Fn-UseC_-HR-Employee-Attrition*.csv',\n",
    "    '/mnt/data/HR-Employee-Attrition*.csv'\n",
    "]\n",
    "csv_path = None\n",
    "for pat in search_patterns:\n",
    "    m = glob.glob(pat)\n",
    "    if m:\n",
    "        csv_path = m[0]; break\n",
    "if not csv_path:\n",
    "    raise FileNotFoundError('CSV not found in /mnt/data. Make sure the dataset is uploaded.')\n",
    "df = pd.read_csv(csv_path)\n",
    "print('Loaded:', os.path.basename(csv_path), 'shape=', df.shape)"
   ]
  },
  {
   "cell_type": "markdown",
   "id": "e2b79052",
   "metadata": {},
   "source": [
    "## Quick peek & quality"
   ]
  },
  {
   "cell_type": "code",
   "execution_count": null,
   "id": "7434d9ee",
   "metadata": {},
   "outputs": [],
   "source": [
    "df.head()"
   ]
  },
  {
   "cell_type": "code",
   "execution_count": null,
   "id": "34f326cd",
   "metadata": {},
   "outputs": [],
   "source": [
    "df.info()"
   ]
  },
  {
   "cell_type": "code",
   "execution_count": null,
   "id": "8fd55203",
   "metadata": {},
   "outputs": [],
   "source": [
    "df.describe(include='all').T.head(20)"
   ]
  },
  {
   "cell_type": "code",
   "execution_count": null,
   "id": "46ecf87f",
   "metadata": {},
   "outputs": [],
   "source": [
    "print('Duplicates:', df.duplicated().sum())\n",
    "missing = df.isna().mean().sort_values(ascending=False)\n",
    "missing[missing>0] if missing.sum()>0 else print('No missing values')"
   ]
  },
  {
   "cell_type": "markdown",
   "id": "06a6690f",
   "metadata": {},
   "source": [
    "## Ordinal label mappings"
   ]
  },
  {
   "cell_type": "code",
   "execution_count": null,
   "id": "843cfb3f",
   "metadata": {},
   "outputs": [],
   "source": [
    "education_map = {1:'Below College',2:'College',3:'Bachelor',4:'Master',5:'Doctor'}\n",
    "satisfaction_map = {1:'Low',2:'Medium',3:'High',4:'Very High'}\n",
    "performance_map = {1:'Low',2:'Good',3:'Excellent',4:'Outstanding'}\n",
    "worklife_map = {1:'Bad',2:'Good',3:'Better',4:'Best'}\n",
    "df['Education_Lbl'] = df['Education'].map(education_map)\n",
    "for col in ['EnvironmentSatisfaction','JobInvolvement','JobSatisfaction','RelationshipSatisfaction']:\n",
    "    df[f'{col}_Lbl'] = df[col].map(satisfaction_map)\n",
    "df['PerformanceRating_Lbl'] = df['PerformanceRating'].map(performance_map)\n",
    "df['WorkLifeBalance_Lbl'] = df['WorkLifeBalance'].map(worklife_map)\n",
    "df['AttritionFlag'] = (df['Attrition'].astype(str).str.strip().str.lower()=='yes').astype(int)\n",
    "df.filter(regex='(_Lbl|Attrition|AttritionFlag)$').head()"
   ]
  },
  {
   "cell_type": "markdown",
   "id": "24e9f930",
   "metadata": {},
   "source": [
    "## Helper: Attrition rate by any feature"
   ]
  },
  {
   "cell_type": "code",
   "execution_count": null,
   "id": "41097e3d",
   "metadata": {},
   "outputs": [],
   "source": [
    "def attrition_rate_by(df, col):\n",
    "    temp = df.groupby(col)['AttritionFlag'].agg(['mean','count']).rename(columns={'mean':'AttritionRate','count':'Count'})\n",
    "    temp['AttritionRate'] = (temp['AttritionRate']*100).round(2)\n",
    "    return temp.sort_values('AttritionRate', ascending=False)"
   ]
  },
  {
   "cell_type": "markdown",
   "id": "b8ff6179",
   "metadata": {},
   "source": [
    "## Overall attrition"
   ]
  },
  {
   "cell_type": "code",
   "execution_count": null,
   "id": "486fcb89",
   "metadata": {},
   "outputs": [],
   "source": [
    "overall_attrition = df['AttritionFlag'].mean()*100\n",
    "print(f'Attrition rate: {overall_attrition:.2f}%')"
   ]
  },
  {
   "cell_type": "code",
   "execution_count": null,
   "id": "e0731171",
   "metadata": {},
   "outputs": [],
   "source": [
    "vals = df['Attrition'].value_counts()\n",
    "plt.figure(figsize=(5,4)); plt.bar(vals.index, vals.values)\n",
    "plt.title('Attrition Distribution'); plt.xlabel('Attrition'); plt.ylabel('Count'); plt.tight_layout(); plt.show()"
   ]
  },
  {
   "cell_type": "markdown",
   "id": "754a4b74",
   "metadata": {},
   "source": [
    "## Tenure & demographics"
   ]
  },
  {
   "cell_type": "code",
   "execution_count": null,
   "id": "63e06798",
   "metadata": {},
   "outputs": [],
   "source": [
    "print('Average tenure (YearsAtCompany):', round(df['YearsAtCompany'].mean(),2))"
   ]
  },
  {
   "cell_type": "code",
   "execution_count": null,
   "id": "6696b27c",
   "metadata": {},
   "outputs": [],
   "source": [
    "plt.figure(figsize=(6,4)); plt.hist(df['YearsAtCompany'], bins=20)\n",
    "plt.title('Distribution: YearsAtCompany'); plt.xlabel('Years'); plt.ylabel('Employees'); plt.tight_layout(); plt.show()"
   ]
  },
  {
   "cell_type": "code",
   "execution_count": null,
   "id": "ad9c7f97",
   "metadata": {},
   "outputs": [],
   "source": [
    "plt.figure(figsize=(6,4)); plt.hist(df['Age'], bins=20)\n",
    "plt.title('Distribution: Age'); plt.xlabel('Age'); plt.ylabel('Employees'); plt.tight_layout(); plt.show()"
   ]
  },
  {
   "cell_type": "code",
   "execution_count": null,
   "id": "ba5298d9",
   "metadata": {},
   "outputs": [],
   "source": [
    "plt.figure(figsize=(6,4)); g = df['Gender'].value_counts(); plt.bar(g.index, g.values)\n",
    "plt.title('Distribution: Gender'); plt.xlabel('Gender'); plt.ylabel('Employees'); plt.tight_layout(); plt.show()"
   ]
  },
  {
   "cell_type": "code",
   "execution_count": null,
   "id": "3f475f89",
   "metadata": {},
   "outputs": [],
   "source": [
    "plt.figure(figsize=(7,4)); d = df['Department'].value_counts(); plt.bar(d.index, d.values)\n",
    "plt.title('Distribution: Department'); plt.xlabel('Department'); plt.ylabel('Employees'); plt.xticks(rotation=15); plt.tight_layout(); plt.show()"
   ]
  },
  {
   "cell_type": "markdown",
   "id": "0b7f6e0e",
   "metadata": {},
   "source": [
    "## Attrition by Age"
   ]
  },
  {
   "cell_type": "code",
   "execution_count": null,
   "id": "30593399",
   "metadata": {},
   "outputs": [],
   "source": [
    "bins = np.arange(df['Age'].min(), df['Age'].max()+2, 2)\n",
    "plt.figure(figsize=(7,4))\n",
    "plt.hist(df.loc[df['AttritionFlag']==0,'Age'], bins=bins, alpha=0.6, label='No')\n",
    "plt.hist(df.loc[df['AttritionFlag']==1,'Age'], bins=bins, alpha=0.6, label='Yes')\n",
    "plt.title('Age distribution by Attrition'); plt.xlabel('Age'); plt.ylabel('Employees'); plt.legend(); plt.tight_layout(); plt.show()"
   ]
  },
  {
   "cell_type": "markdown",
   "id": "5bd8f47d",
   "metadata": {},
   "source": [
    "## Attrition rate by key features"
   ]
  },
  {
   "cell_type": "code",
   "execution_count": null,
   "id": "a7f83541",
   "metadata": {},
   "outputs": [],
   "source": [
    "for col in ['Gender','Department','BusinessTravel','JobRole','Education_Lbl','JobSatisfaction_Lbl','WorkLifeBalance_Lbl','StockOptionLevel']:\n",
    "    rates = attrition_rate_by(df, col)\n",
    "    print(f'\\n=== {col} ==='); display(rates.head(10))\n",
    "    plt.figure(figsize=(7,4)); x = rates.index.astype(str)[:10]; y = rates['AttritionRate'].values[:10]\n",
    "    plt.bar(x,y); plt.title(f'Attrition Rate by {col} (Top 10)'); plt.ylabel('Attrition Rate (%)')\n",
    "    plt.xticks(rotation=20, ha='right'); plt.tight_layout(); plt.show()"
   ]
  },
  {
   "cell_type": "markdown",
   "id": "6e087188",
   "metadata": {},
   "source": [
    "## MonthlyIncome vs Attrition"
   ]
  },
  {
   "cell_type": "code",
   "execution_count": null,
   "id": "42c9ed18",
   "metadata": {},
   "outputs": [],
   "source": [
    "vals = [df.loc[df['AttritionFlag']==0,'MonthlyIncome'], df.loc[df['AttritionFlag']==1,'MonthlyIncome']]\n",
    "plt.figure(figsize=(7,4)); plt.boxplot(vals, labels=['No','Yes']); plt.title('MonthlyIncome by Attrition')\n",
    "plt.ylabel('MonthlyIncome'); plt.tight_layout(); plt.show()"
   ]
  },
  {
   "cell_type": "markdown",
   "id": "36bca568",
   "metadata": {},
   "source": [
    "## Correlation (numeric features)"
   ]
  },
  {
   "cell_type": "code",
   "execution_count": null,
   "id": "e1e044d6",
   "metadata": {},
   "outputs": [],
   "source": [
    "num_cols = df.select_dtypes(include=[np.number]).columns.tolist()\n",
    "corr = df[num_cols].corr()\n",
    "plt.figure(figsize=(10,8)); im = plt.imshow(corr, aspect='auto'); plt.colorbar(im, fraction=0.046, pad=0.04)\n",
    "plt.xticks(range(len(num_cols)), num_cols, rotation=90); plt.yticks(range(len(num_cols)), num_cols)\n",
    "plt.title('Correlation matrix (numeric)'); plt.tight_layout(); plt.show()"
   ]
  },
  {
   "cell_type": "markdown",
   "id": "831dd48c",
   "metadata": {},
   "source": [
    "# Baseline ML Models\n",
    "## Train/Test split & preprocessing"
   ]
  },
  {
   "cell_type": "code",
   "execution_count": null,
   "id": "322a1b88",
   "metadata": {},
   "outputs": [],
   "source": [
    "target = 'AttritionFlag'\n",
    "X = df.drop(columns=[target]); y = df[target]\n",
    "cat_cols = X.select_dtypes(include=['object']).columns.tolist()\n",
    "cat_cols = list(sorted(set(cat_cols + [c for c in X.columns if c.endswith('_Lbl')] )))\n",
    "cat_cols = [c for c in cat_cols if c in X.columns]\n",
    "num_cols = [c for c in X.columns if c not in cat_cols and X[c].dtype != 'O']\n",
    "redundant = [c for c in cat_cols if c.replace('_Lbl','') in num_cols]\n",
    "cat_cols = [c for c in cat_cols if c not in redundant]\n",
    "X = X[cat_cols + num_cols]\n",
    "X_train, X_test, y_train, y_test = train_test_split(X, y, test_size=0.2, random_state=42, stratify=y)\n",
    "print('Train/Test:', X_train.shape, X_test.shape)"
   ]
  },
  {
   "cell_type": "markdown",
   "id": "02eb2965",
   "metadata": {},
   "source": [
    "## Pipelines: Logistic Regression & Random Forest"
   ]
  },
  {
   "cell_type": "code",
   "execution_count": null,
   "id": "2f59a122",
   "metadata": {},
   "outputs": [],
   "source": [
    "from sklearn.preprocessing import OneHotEncoder, StandardScaler\n",
    "from sklearn.compose import ColumnTransformer\n",
    "from sklearn.pipeline import Pipeline\n",
    "from sklearn.linear_model import LogisticRegression\n",
    "from sklearn.ensemble import RandomForestClassifier\n",
    "\n",
    "categorical_transformer = OneHotEncoder(handle_unknown='ignore', sparse_output=False)\n",
    "numeric_transformer = StandardScaler()\n",
    "\n",
    "preprocess = ColumnTransformer([('cat', categorical_transformer, cat_cols),\n",
    "                                ('num', numeric_transformer, num_cols)], remainder='drop')\n",
    "\n",
    "log_reg = Pipeline([('prep', preprocess), ('clf', LogisticRegression(max_iter=1000, class_weight='balanced'))])\n",
    "rf = Pipeline([('prep', preprocess), ('clf', RandomForestClassifier(n_estimators=300, random_state=42, class_weight='balanced_subsample'))])\n",
    "\n",
    "for name, model in [('LogisticRegression', log_reg), ('RandomForest', rf)]:\n",
    "    print('\\nFitting:', name)\n",
    "    model.fit(X_train, y_train)\n",
    "    pred = model.predict(X_test)\n",
    "    proba = model.predict_proba(X_test)[:,1] if hasattr(model, 'predict_proba') else None\n",
    "    from sklearn.metrics import accuracy_score, precision_score, recall_score, f1_score, roc_auc_score, confusion_matrix\n",
    "    acc = accuracy_score(y_test, pred); prec = precision_score(y_test, pred, zero_division=0)\n",
    "    rec = recall_score(y_test, pred, zero_division=0); f1 = f1_score(y_test, pred, zero_division=0)\n",
    "    roc = roc_auc_score(y_test, proba) if proba is not None else np.nan\n",
    "    print(f'[{name}] Acc={acc:.3f}  Prec={prec:.3f}  Rec={rec:.3f}  F1={f1:.3f}  ROC-AUC={roc:.3f}')\n",
    "    print('Confusion Matrix:\\n', confusion_matrix(y_test, pred))"
   ]
  },
  {
   "cell_type": "markdown",
   "id": "ff382319",
   "metadata": {},
   "source": [
    "## ROC Curve (Random Forest)"
   ]
  },
  {
   "cell_type": "code",
   "execution_count": null,
   "id": "69ad562a",
   "metadata": {},
   "outputs": [],
   "source": [
    "RocCurveDisplay.from_estimator(rf, X_test, y_test)\n",
    "plt.title('ROC Curve – Random Forest'); plt.tight_layout(); plt.show()"
   ]
  },
  {
   "cell_type": "markdown",
   "id": "afc734f7",
   "metadata": {},
   "source": [
    "## Feature Importances (Random Forest)"
   ]
  },
  {
   "cell_type": "code",
   "execution_count": null,
   "id": "77b2c59c",
   "metadata": {},
   "outputs": [],
   "source": [
    "ohe = rf.named_steps['prep'].named_transformers_['cat']\n",
    "feature_names = list(ohe.get_feature_names_out(cat_cols)) + num_cols\n",
    "importances = rf.named_steps['clf'].feature_importances_\n",
    "fi = (pd.DataFrame({'feature': feature_names, 'importance': importances}).sort_values('importance', ascending=False).reset_index(drop=True))\n",
    "fi.head(20)"
   ]
  },
  {
   "cell_type": "code",
   "execution_count": null,
   "id": "c5f52c78",
   "metadata": {},
   "outputs": [],
   "source": [
    "plt.figure(figsize=(8,6)); topn=20\n",
    "plt.barh(fi['feature'][:topn][::-1], fi['importance'][:topn][::-1])\n",
    "plt.title('Top Feature Importances (RF)'); plt.xlabel('Importance'); plt.tight_layout(); plt.show()"
   ]
  },
  {
   "cell_type": "markdown",
   "id": "a6c17bc4",
   "metadata": {},
   "source": [
    "## Cross‑validation (StratifiedKFold, ROC‑AUC)"
   ]
  },
  {
   "cell_type": "code",
   "execution_count": null,
   "id": "7c9d25ff",
   "metadata": {},
   "outputs": [],
   "source": [
    "cv = StratifiedKFold(n_splits=5, shuffle=True, random_state=42)\n",
    "scores = cross_val_score(rf, X, y, cv=cv, scoring='roc_auc')\n",
    "print('RandomForest ROC-AUC (5-fold):', scores.round(3), '| mean=', scores.mean().round(3))"
   ]
  },
  {
   "cell_type": "markdown",
   "id": "327cc316",
   "metadata": {},
   "source": [
    "## Hyperparameter Tuning – Random Forest (RandomizedSearchCV)"
   ]
  },
  {
   "cell_type": "code",
   "execution_count": null,
   "id": "d1d16f4c",
   "metadata": {},
   "outputs": [],
   "source": [
    "from sklearn.model_selection import RandomizedSearchCV\n",
    "from scipy.stats import randint\n",
    "from sklearn.metrics import classification_report, ConfusionMatrixDisplay\n",
    "\n",
    "param_dist = {\n",
    "    'clf__n_estimators': randint(200, 600),\n",
    "    'clf__max_depth': randint(3, 20),\n",
    "    'clf__min_samples_split': randint(2, 20),\n",
    "    'clf__min_samples_leaf': randint(1, 10),\n",
    "    'clf__max_features': ['sqrt', 'log2', None],\n",
    "    'clf__bootstrap': [True, False],\n",
    "}\n",
    "rf_search = Pipeline([('prep', preprocess),\n",
    "                      ('clf', RandomForestClassifier(random_state=42, class_weight='balanced_subsample'))])\n",
    "search = RandomizedSearchCV(rf_search, param_distributions=param_dist, n_iter=25, cv=5,\n",
    "                            scoring='roc_auc', random_state=42, verbose=1)\n",
    "search.fit(X_train, y_train)\n",
    "best_rf = search.best_estimator_\n",
    "print('Best ROC-AUC (CV):', search.best_score_)\n",
    "print('Best Params:', search.best_params_)\n",
    "pred = best_rf.predict(X_test)\n",
    "proba = best_rf.predict_proba(X_test)[:,1]\n",
    "print(classification_report(y_test, pred))\n",
    "ConfusionMatrixDisplay.from_predictions(y_test, pred); plt.title('Confusion Matrix – Tuned RF'); plt.tight_layout(); plt.show()"
   ]
  },
  {
   "cell_type": "markdown",
   "id": "3b8581f1",
   "metadata": {},
   "source": [
    "## Threshold Tuning (maximize F1)"
   ]
  },
  {
   "cell_type": "code",
   "execution_count": null,
   "id": "ed98949d",
   "metadata": {},
   "outputs": [],
   "source": [
    "import numpy as np\n",
    "from sklearn.metrics import precision_recall_curve, confusion_matrix, classification_report\n",
    "proba = best_rf.predict_proba(X_test)[:,1]\n",
    "prec, rec, th = precision_recall_curve(y_test, proba)\n",
    "f1s = 2*prec*rec/(prec+rec + 1e-9)\n",
    "ix = np.nanargmax(f1s)\n",
    "best_thr = th[ix]\n",
    "print(f'Best threshold≈ {best_thr:.3f}  F1={f1s[ix]:.3f}  P={prec[ix]:.3f}  R={rec[ix]:.3f}')\n",
    "pred_thr = (proba >= best_thr).astype(int)\n",
    "print('Confusion matrix@best-threshold:\\n', confusion_matrix(y_test, pred_thr))\n",
    "print(classification_report(y_test, pred_thr))"
   ]
  },
  {
   "cell_type": "markdown",
   "id": "288da5a3",
   "metadata": {},
   "source": [
    "## Probability Calibration (Isotonic)"
   ]
  },
  {
   "cell_type": "code",
   "execution_count": null,
   "id": "deb032a6",
   "metadata": {},
   "outputs": [],
   "source": [
    "from sklearn.calibration import CalibratedClassifierCV\n",
    "from sklearn.metrics import roc_auc_score\n",
    "cal_rf = CalibratedClassifierCV(best_rf, method='isotonic', cv=5)\n",
    "cal_rf.fit(X_train, y_train)\n",
    "proba_cal = cal_rf.predict_proba(X_test)[:,1]\n",
    "print('ROC-AUC (calibrated):', roc_auc_score(y_test, proba_cal))"
   ]
  },
  {
   "cell_type": "markdown",
   "id": "1651c402",
   "metadata": {},
   "source": [
    "## Save Trained Pipeline + Inference Helper"
   ]
  },
  {
   "cell_type": "code",
   "execution_count": null,
   "id": "1fd883e3",
   "metadata": {},
   "outputs": [],
   "source": [
    "import joblib\n",
    "artifact_path = '/mnt/data/hr_attrition_best_rf.joblib'\n",
    "joblib.dump(best_rf, artifact_path)\n",
    "print('Saved:', artifact_path)\n",
    "def load_model(path=artifact_path):\n",
    "    return joblib.load(path)\n",
    "def predict_attrition(df_like, model_path=artifact_path, threshold=0.5):\n",
    "    model = load_model(model_path)\n",
    "    proba = model.predict_proba(df_like)[:,1]\n",
    "    preds = (proba >= threshold).astype(int)\n",
    "    return preds, proba"
   ]
  },
  {
   "cell_type": "markdown",
   "id": "2e726bb0",
   "metadata": {},
   "source": [
    "## Streamlit App Stub"
   ]
  },
  {
   "cell_type": "code",
   "execution_count": null,
   "id": "9d1e7d62",
   "metadata": {},
   "outputs": [],
   "source": [
    "app_code = '''import streamlit as st\n",
    "import pandas as pd\n",
    "import joblib\n",
    "\n",
    "st.title(\"HR Attrition Predictor (Demo)\")\n",
    "\n",
    "@st.cache_resource\n",
    "def load_model():\n",
    "    return joblib.load(\"hr_attrition_best_rf.joblib\")\n",
    "\n",
    "model = load_model()\n",
    "\n",
    "file = st.file_uploader(\"Upload CSV\", type=[\"csv\"])\n",
    "thr = st.slider(\"Decision threshold\", 0.0, 1.0, 0.5, 0.01)\n",
    "\n",
    "if file is not None:\n",
    "    df = pd.read_csv(file)\n",
    "    proba = model.predict_proba(df)[:,1]\n",
    "    preds = (proba >= thr).astype(int)\n",
    "    out = df.copy()\n",
    "    out[\"Attrition_Proba\"] = proba\n",
    "    out[\"Attrition_Pred\"] = preds\n",
    "    st.write(out.head())\n",
    "    st.download_button(\"Download predictions\", out.to_csv(index=False).encode(\"utf-8\"), \"predictions.csv\", \"text/csv\")\n",
    "'''\n",
    "from pathlib import Path\n",
    "Path('/mnt/data/app.py').write_text(app_code, encoding='utf-8')\n",
    "print('Wrote /mnt/data/app.py')"
   ]
  }
 ],
 "metadata": {
  "kernelspec": {
   "display_name": "Python 3",
   "language": "python",
   "name": "python3"
  },
  "language_info": {
   "name": "python",
   "version": "3.x"
  }
 },
 "nbformat": 4,
 "nbformat_minor": 5
}