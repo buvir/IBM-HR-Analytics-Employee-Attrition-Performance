{
 "cells": [
  {
   "cell_type": "markdown",
   "id": "7c8cc828",
   "metadata": {},
   "source": [
    "# IBM HR Analytics – Employee Attrition & Performance\n",
    "**End‑to‑end EDA + Baseline ML (Logistic Regression & Random Forest)**  \n",
    "\n",
    "\n",
    "**Goal:** Explore the IBM HR Attrition dataset (1,470 × 35) to understand drivers of attrition and build a baseline classifier to predict attrition.\n",
    "\n",
    "**What you’ll get here**\n",
    "- Clean, readable **EDA** with clear plots (matplotlib)\n",
    "- **Utilities** to compute attrition rates by any feature\n",
    "- **Correlation** overview\n",
    "- **Scikit‑learn pipeline** with ColumnTransformer (one‑hot + scaling)\n",
    "- **Logistic Regression** (class_weight balanced) and **Random Forest**\n",
    "- Model evaluation: Accuracy, Precision, Recall, F1, ROC‑AUC + confusion matrix\n",
    "- Ranked feature importances (RF) + LR coefficients\n",
    "\n",
    "> Tip: Run all cells top‑to‑bottom. If you run into import errors, install missing packages locally and re‑run.\n"
   ]
  },
  {
   "cell_type": "code",
   "execution_count": null,
   "id": "833fb6c2",
   "metadata": {},
   "outputs": [],
   "source": [
    "# === Imports & setup ===\n",
    "import os, glob, warnings\n",
    "warnings.filterwarnings('ignore')\n",
    "\n",
    "import numpy as np\n",
    "import pandas as pd\n",
    "import matplotlib.pyplot as plt\n",
    "\n",
    "# sklearn\n",
    "from sklearn.model_selection import train_test_split, StratifiedKFold, cross_val_score\n",
    "from sklearn.preprocessing import OneHotEncoder, StandardScaler\n",
    "from sklearn.compose import ColumnTransformer\n",
    "from sklearn.pipeline import Pipeline\n",
    "from sklearn.metrics import (accuracy_score, precision_score, recall_score, f1_score,\n",
    "                             roc_auc_score, confusion_matrix, RocCurveDisplay)\n",
    "from sklearn.linear_model import LogisticRegression\n",
    "from sklearn.ensemble import RandomForestClassifier\n",
    "\n",
    "print('Versions:')\n",
    "import sys; print('Python:', sys.version.split()[0])\n",
    "import sklearn; print('scikit-learn:', sklearn.__version__)\n",
    "print('pandas:', pd.__version__)\n",
    "print('numpy:', np.__version__)"
   ]
  },
  {
   "cell_type": "markdown",
   "id": "3fae7e96",
   "metadata": {},
   "source": [
    "## Load dataset"
   ]
  },
  {
   "cell_type": "code",
   "execution_count": null,
   "id": "4756d6cc",
   "metadata": {},
   "outputs": [],
   "source": [
    "# === Load CSV from /mnt/data ===\n",
    "search_patterns = [\n",
    "    '/mnt/data/WA_Fn-UseC_-HR-Employee-Attrition*.csv',       # typical Kaggle filename\n",
    "    '/mnt/data/WA_Fn-UseC_-HR-Employee-Attrition (1).csv',    # uploaded variant\n",
    "    '/mnt/data/HR-Employee-Attrition*.csv'\n",
    "]\n",
    "\n",
    "csv_path = None\n",
    "for pat in search_patterns:\n",
    "    matches = glob.glob(pat)\n",
    "    if matches:\n",
    "        csv_path = matches[0]\n",
    "        break\n",
    "\n",
    "if csv_path is None:\n",
    "    raise FileNotFoundError('Could not find the HR Attrition CSV in /mnt/data. '\n",
    "                            'Please place it there and re-run.')\n",
    "\n",
    "df = pd.read_csv(csv_path)\n",
    "\n",
    "print('Loaded:', os.path.basename(csv_path))\n",
    "df.shape"
   ]
  },
  {
   "cell_type": "markdown",
   "id": "8272c15e",
   "metadata": {},
   "source": [
    "## Quick peek"
   ]
  },
  {
   "cell_type": "code",
   "execution_count": null,
   "id": "0dd27bc8",
   "metadata": {},
   "outputs": [],
   "source": [
    "df.head()"
   ]
  },
  {
   "cell_type": "code",
   "execution_count": null,
   "id": "de607a12",
   "metadata": {},
   "outputs": [],
   "source": [
    "df.info()"
   ]
  },
  {
   "cell_type": "code",
   "execution_count": null,
   "id": "4a2a559d",
   "metadata": {},
   "outputs": [],
   "source": [
    "df.describe(include='all').T.head(20)"
   ]
  },
  {
   "cell_type": "markdown",
   "id": "638f6112",
   "metadata": {},
   "source": [
    "## Data quality checks"
   ]
  },
  {
   "cell_type": "code",
   "execution_count": null,
   "id": "60c4ad0c",
   "metadata": {},
   "outputs": [],
   "source": [
    "print('Duplicates:', df.duplicated().sum())\n",
    "missing_pct = df.isna().mean().sort_values(ascending=False)\n",
    "missing_pct[missing_pct > 0] if missing_pct.sum() > 0 else print('No missing values')"
   ]
  },
  {
   "cell_type": "markdown",
   "id": "90b93aa6",
   "metadata": {},
   "source": [
    "## Ordinal label mappings\n",
    "Create human-readable labels for ordinal-coded columns (from the original dataset description).\n"
   ]
  },
  {
   "cell_type": "code",
   "execution_count": null,
   "id": "abd6d015",
   "metadata": {},
   "outputs": [],
   "source": [
    "# === Ordinal mappings ===\n",
    "education_map = {1:'Below College', 2:'College', 3:'Bachelor', 4:'Master', 5:'Doctor'}\n",
    "satisfaction_map = {1:'Low', 2:'Medium', 3:'High', 4:'Very High'}\n",
    "performance_map = {1:'Low', 2:'Good', 3:'Excellent', 4:'Outstanding'}\n",
    "worklife_map = {1:'Bad', 2:'Good', 3:'Better', 4:'Best'}\n",
    "\n",
    "# Add labeled columns (suffix _Lbl)\n",
    "df['Education_Lbl'] = df['Education'].map(education_map)\n",
    "for col in ['EnvironmentSatisfaction','JobInvolvement','JobSatisfaction','RelationshipSatisfaction']:\n",
    "    df[f'{col}_Lbl'] = df[col].map(satisfaction_map)\n",
    "df['PerformanceRating_Lbl'] = df['PerformanceRating'].map(performance_map)\n",
    "df['WorkLifeBalance_Lbl'] = df['WorkLifeBalance'].map(worklife_map)\n",
    "\n",
    "# Target as numeric flag\n",
    "df['AttritionFlag'] = (df['Attrition'].astype(str).str.strip().str.lower() == 'yes').astype(int)\n",
    "\n",
    "df.filter(regex='(_Lbl|Attrition|AttritionFlag)$').head()"
   ]
  },
  {
   "cell_type": "markdown",
   "id": "88cb06be",
   "metadata": {},
   "source": [
    "## Helper: Attrition rate by any feature"
   ]
  },
  {
   "cell_type": "code",
   "execution_count": null,
   "id": "d6f61c09",
   "metadata": {},
   "outputs": [],
   "source": [
    "def attrition_rate_by(df, col):\n",
    "    temp = (df.groupby(col)['AttritionFlag']\n",
    "              .agg(['mean','count'])\n",
    "              .rename(columns={'mean':'AttritionRate','count':'Count'})\n",
    "           )\n",
    "    temp['AttritionRate'] = (temp['AttritionRate'] * 100).round(2)\n",
    "    return temp.sort_values('AttritionRate', ascending=False)\n",
    "\n",
    "# Example:\n",
    "attrition_rate_by(df, 'Department').head()"
   ]
  },
  {
   "cell_type": "markdown",
   "id": "78392daa",
   "metadata": {},
   "source": [
    "## Overall attrition"
   ]
  },
  {
   "cell_type": "code",
   "execution_count": null,
   "id": "d4ed1a65",
   "metadata": {},
   "outputs": [],
   "source": [
    "overall_attrition = df['AttritionFlag'].mean() * 100\n",
    "print(f'Attrition rate: {overall_attrition:.2f}%')"
   ]
  },
  {
   "cell_type": "code",
   "execution_count": null,
   "id": "3d63b0b4",
   "metadata": {},
   "outputs": [],
   "source": [
    "# Plot: overall attrition distribution\n",
    "vals = df['Attrition'].value_counts()\n",
    "plt.figure(figsize=(5,4))\n",
    "plt.bar(vals.index, vals.values)\n",
    "plt.title('Attrition Distribution')\n",
    "plt.xlabel('Attrition')\n",
    "plt.ylabel('Count')\n",
    "plt.tight_layout()\n",
    "plt.show()"
   ]
  },
  {
   "cell_type": "markdown",
   "id": "a174e6c6",
   "metadata": {},
   "source": [
    "## Average tenure (YearsAtCompany)"
   ]
  },
  {
   "cell_type": "code",
   "execution_count": null,
   "id": "d59a8d46",
   "metadata": {},
   "outputs": [],
   "source": [
    "avg_tenure = df['YearsAtCompany'].mean()\n",
    "print(f'Average tenure: {avg_tenure:.2f} years')"
   ]
  },
  {
   "cell_type": "code",
   "execution_count": null,
   "id": "24e9f957",
   "metadata": {},
   "outputs": [],
   "source": [
    "plt.figure(figsize=(6,4))\n",
    "plt.hist(df['YearsAtCompany'], bins=20)\n",
    "plt.title('Distribution: YearsAtCompany')\n",
    "plt.xlabel('YearsAtCompany')\n",
    "plt.ylabel('Employees')\n",
    "plt.tight_layout()\n",
    "plt.show()"
   ]
  },
  {
   "cell_type": "markdown",
   "id": "88c8aa05",
   "metadata": {},
   "source": [
    "## Demographics"
   ]
  },
  {
   "cell_type": "code",
   "execution_count": null,
   "id": "f7014ae7",
   "metadata": {},
   "outputs": [],
   "source": [
    "plt.figure(figsize=(6,4))\n",
    "plt.hist(df['Age'], bins=20)\n",
    "plt.title('Distribution: Age')\n",
    "plt.xlabel('Age')\n",
    "plt.ylabel('Employees')\n",
    "plt.tight_layout()\n",
    "plt.show()"
   ]
  },
  {
   "cell_type": "code",
   "execution_count": null,
   "id": "b5d9e1f4",
   "metadata": {},
   "outputs": [],
   "source": [
    "plt.figure(figsize=(6,4))\n",
    "counts = df['Gender'].value_counts()\n",
    "plt.bar(counts.index, counts.values)\n",
    "plt.title('Distribution: Gender')\n",
    "plt.xlabel('Gender')\n",
    "plt.ylabel('Employees')\n",
    "plt.tight_layout()\n",
    "plt.show()"
   ]
  },
  {
   "cell_type": "code",
   "execution_count": null,
   "id": "288cb27c",
   "metadata": {},
   "outputs": [],
   "source": [
    "plt.figure(figsize=(7,4))\n",
    "dept_counts = df['Department'].value_counts()\n",
    "plt.bar(dept_counts.index, dept_counts.values)\n",
    "plt.title('Distribution: Department')\n",
    "plt.xlabel('Department')\n",
    "plt.ylabel('Employees')\n",
    "plt.xticks(rotation=15)\n",
    "plt.tight_layout()\n",
    "plt.show()"
   ]
  },
  {
   "cell_type": "markdown",
   "id": "71cab161",
   "metadata": {},
   "source": [
    "## Attrition by Age"
   ]
  },
  {
   "cell_type": "code",
   "execution_count": null,
   "id": "cc9d5ed3",
   "metadata": {},
   "outputs": [],
   "source": [
    "plt.figure(figsize=(7,4))\n",
    "bins = np.arange(df['Age'].min(), df['Age'].max()+2, 2)\n",
    "plt.hist(df.loc[df['AttritionFlag']==0, 'Age'], bins=bins, alpha=0.6, label='No')\n",
    "plt.hist(df.loc[df['AttritionFlag']==1, 'Age'], bins=bins, alpha=0.6, label='Yes')\n",
    "plt.title('Age distribution by Attrition')\n",
    "plt.xlabel('Age')\n",
    "plt.ylabel('Employees')\n",
    "plt.legend()\n",
    "plt.tight_layout()\n",
    "plt.show()"
   ]
  },
  {
   "cell_type": "markdown",
   "id": "b8e3fd27",
   "metadata": {},
   "source": [
    "## Attrition rate by key features"
   ]
  },
  {
   "cell_type": "code",
   "execution_count": null,
   "id": "7b1911cc",
   "metadata": {},
   "outputs": [],
   "source": [
    "for col in ['Gender','Department','BusinessTravel','JobRole','Education_Lbl',\n",
    "             'JobSatisfaction_Lbl','WorkLifeBalance_Lbl','StockOptionLevel']:\n",
    "    rates = attrition_rate_by(df, col)\n",
    "    print(f'\\n=== {col} ===')\n",
    "    display(rates.head(10))\n",
    "    \n",
    "    # plot\n",
    "    plt.figure(figsize=(7,4))\n",
    "    x = rates.index.astype(str)[:10]\n",
    "    y = rates['AttritionRate'].values[:10]\n",
    "    plt.bar(x, y)\n",
    "    plt.title(f'Attrition Rate by {col} (Top 10)')\n",
    "    plt.ylabel('Attrition Rate (%)')\n",
    "    plt.xticks(rotation=20, ha='right')\n",
    "    plt.tight_layout()\n",
    "    plt.show()"
   ]
  },
  {
   "cell_type": "markdown",
   "id": "26584004",
   "metadata": {},
   "source": [
    "## MonthlyIncome vs Attrition"
   ]
  },
  {
   "cell_type": "code",
   "execution_count": null,
   "id": "5e09695d",
   "metadata": {},
   "outputs": [],
   "source": [
    "plt.figure(figsize=(7,4))\n",
    "vals = [df.loc[df['AttritionFlag']==0, 'MonthlyIncome'],\n",
    "        df.loc[df['AttritionFlag']==1, 'MonthlyIncome']]\n",
    "plt.boxplot(vals, labels=['No','Yes'])\n",
    "plt.title('MonthlyIncome by Attrition')\n",
    "plt.ylabel('MonthlyIncome')\n",
    "plt.tight_layout()\n",
    "plt.show()"
   ]
  },
  {
   "cell_type": "markdown",
   "id": "351deca5",
   "metadata": {},
   "source": [
    "## Correlation (numeric features)"
   ]
  },
  {
   "cell_type": "code",
   "execution_count": null,
   "id": "b1e37cae",
   "metadata": {},
   "outputs": [],
   "source": [
    "num_cols = df.select_dtypes(include=[np.number]).columns.tolist()\n",
    "corr = df[num_cols].corr()\n",
    "\n",
    "plt.figure(figsize=(10,8))\n",
    "im = plt.imshow(corr, aspect='auto')\n",
    "plt.colorbar(im, fraction=0.046, pad=0.04)\n",
    "plt.xticks(range(len(num_cols)), num_cols, rotation=90)\n",
    "plt.yticks(range(len(num_cols)), num_cols)\n",
    "plt.title('Correlation matrix (numeric features)')\n",
    "plt.tight_layout()\n",
    "plt.show()"
   ]
  },
  {
   "cell_type": "markdown",
   "id": "8eeb1592",
   "metadata": {},
   "source": [
    "# Baseline ML Models"
   ]
  },
  {
   "cell_type": "markdown",
   "id": "8283a7c0",
   "metadata": {},
   "source": [
    "## Train/Test split & preprocessing\n",
    "- Target = `AttritionFlag`\n",
    "- Numeric features scaled for LR\n",
    "- Categorical features one‑hot encoded\n"
   ]
  },
  {
   "cell_type": "code",
   "execution_count": null,
   "id": "b9229e55",
   "metadata": {},
   "outputs": [],
   "source": [
    "target = 'AttritionFlag'\n",
    "X = df.drop(columns=[target])\n",
    "y = df[target]\n",
    "\n",
    "# Identify column types\n",
    "cat_cols = X.select_dtypes(include=['object']).columns.tolist()\n",
    "# keep our _Lbl columns (string) too\n",
    "cat_cols = list(sorted(set(cat_cols + [c for c in X.columns if c.endswith('_Lbl')])))\n",
    "cat_cols = [c for c in cat_cols if c in X.columns]\n",
    "\n",
    "num_cols = [c for c in X.columns if c not in cat_cols and X[c].dtype != 'O']\n",
    "\n",
    "# Drop duplicate info: if original ordinal column exists and label version exists, we can drop the label for model\n",
    "redundant = [c for c in cat_cols if c.replace('_Lbl','') in num_cols]\n",
    "cat_cols = [c for c in cat_cols if c not in redundant]\n",
    "\n",
    "X = X[cat_cols + num_cols]  # reorder\n",
    "\n",
    "X_train, X_test, y_train, y_test = train_test_split(\n",
    "    X, y, test_size=0.2, random_state=42, stratify=y\n",
    ")\n",
    "\n",
    "print('Train/Test shapes:', X_train.shape, X_test.shape)"
   ]
  },
  {
   "cell_type": "markdown",
   "id": "f3b2cf03",
   "metadata": {},
   "source": [
    "## Pipelines: Logistic Regression & Random Forest"
   ]
  },
  {
   "cell_type": "code",
   "execution_count": null,
   "id": "7a0cd61a",
   "metadata": {},
   "outputs": [],
   "source": [
    "categorical_transformer = OneHotEncoder(handle_unknown='ignore', sparse_output=False)\n",
    "numeric_transformer = StandardScaler()\n",
    "\n",
    "preprocess = ColumnTransformer(\n",
    "    transformers=[\n",
    "        ('cat', categorical_transformer, cat_cols),\n",
    "        ('num', numeric_transformer, num_cols),\n",
    "    ],\n",
    "    remainder='drop'\n",
    ")\n",
    "\n",
    "log_reg = Pipeline(steps=[\n",
    "    ('prep', preprocess),\n",
    "    ('clf', LogisticRegression(max_iter=1000, class_weight='balanced'))\n",
    "])\n",
    "\n",
    "rf = Pipeline(steps=[\n",
    "    ('prep', preprocess),\n",
    "    ('clf', RandomForestClassifier(\n",
    "        n_estimators=300, random_state=42, class_weight='balanced_subsample'\n",
    "    ))\n",
    "])\n",
    "\n",
    "for name, model in [('LogisticRegression', log_reg), ('RandomForest', rf)]:\n",
    "    print('\\nFitting:', name)\n",
    "    model.fit(X_train, y_train)\n",
    "    pred = model.predict(X_test)\n",
    "    proba = model.predict_proba(X_test)[:,1] if hasattr(model, 'predict_proba') else None\n",
    "    \n",
    "    acc = accuracy_score(y_test, pred)\n",
    "    prec = precision_score(y_test, pred, zero_division=0)\n",
    "    rec = recall_score(y_test, pred, zero_division=0)\n",
    "    f1 = f1_score(y_test, pred, zero_division=0)\n",
    "    roc = roc_auc_score(y_test, proba) if proba is not None else np.nan\n",
    "    \n",
    "    print(f'[{name}] Acc={acc:.3f}  Prec={prec:.3f}  Rec={rec:.3f}  F1={f1:.3f}  ROC-AUC={roc:.3f}')\n",
    "    \n",
    "    # Confusion matrix\n",
    "    cm = confusion_matrix(y_test, pred)\n",
    "    print('Confusion matrix:\\n', cm)"
   ]
  },
  {
   "cell_type": "markdown",
   "id": "8229505e",
   "metadata": {},
   "source": [
    "## ROC Curve (Random Forest)"
   ]
  },
  {
   "cell_type": "code",
   "execution_count": null,
   "id": "7ed0cbd7",
   "metadata": {},
   "outputs": [],
   "source": [
    "rf.fit(X_train, y_train)\n",
    "RocCurveDisplay.from_estimator(rf, X_test, y_test)\n",
    "plt.title('ROC Curve – Random Forest')\n",
    "plt.tight_layout()\n",
    "plt.show()"
   ]
  },
  {
   "cell_type": "markdown",
   "id": "6a8e3419",
   "metadata": {},
   "source": [
    "## Feature importances (Random Forest)"
   ]
  },
  {
   "cell_type": "code",
   "execution_count": null,
   "id": "d4b57202",
   "metadata": {},
   "outputs": [],
   "source": [
    "# We need to extract the post-transformer feature names\n",
    "ohe = rf.named_steps['prep'].named_transformers_['cat']\n",
    "num_names = num_cols\n",
    "cat_names = list(ohe.get_feature_names_out(cat_cols))\n",
    "feature_names = cat_names + num_names\n",
    "\n",
    "rf_clf = rf.named_steps['clf']\n",
    "importances = rf_clf.feature_importances_\n",
    "\n",
    "fi = (pd.DataFrame({'feature': feature_names, 'importance': importances})\n",
    "        .sort_values('importance', ascending=False)\n",
    "        .reset_index(drop=True))\n",
    "\n",
    "fi.head(20)"
   ]
  },
  {
   "cell_type": "code",
   "execution_count": null,
   "id": "caeaba07",
   "metadata": {},
   "outputs": [],
   "source": [
    "plt.figure(figsize=(8,6))\n",
    "topn = 20\n",
    "plt.barh(fi['feature'][:topn][::-1], fi['importance'][:topn][::-1])\n",
    "plt.title('Top Feature Importances (Random Forest)')\n",
    "plt.xlabel('Importance')\n",
    "plt.tight_layout()\n",
    "plt.show()"
   ]
  },
  {
   "cell_type": "markdown",
   "id": "e8d73ffd",
   "metadata": {},
   "source": [
    "## Logistic Regression coefficients (top magnitude)"
   ]
  },
  {
   "cell_type": "code",
   "execution_count": null,
   "id": "c778564c",
   "metadata": {},
   "outputs": [],
   "source": [
    "# Refit LR to get coefficients with aligned feature names\n",
    "log_reg.fit(X_train, y_train)\n",
    "ohe = log_reg.named_steps['prep'].named_transformers_['cat']\n",
    "feature_names = list(ohe.get_feature_names_out(cat_cols)) + num_cols\n",
    "\n",
    "coef = log_reg.named_steps['clf'].coef_.flatten()\n",
    "coef_df = (pd.DataFrame({'feature': feature_names, 'coef': coef})\n",
    "           .assign(abs_coef=lambda d: d['coef'].abs())\n",
    "           .sort_values('abs_coef', ascending=False)\n",
    "           .drop(columns=['abs_coef'])\n",
    "           .reset_index(drop=True))\n",
    "\n",
    "coef_df.head(20)"
   ]
  },
  {
   "cell_type": "code",
   "execution_count": null,
   "id": "9d3ec712",
   "metadata": {},
   "outputs": [],
   "source": [
    "plt.figure(figsize=(8,6))\n",
    "topn = 20\n",
    "plt.barh(coef_df['feature'][:topn][::-1], coef_df['coef'][:topn][::-1])\n",
    "plt.title('Top LR Coefficients (signed)')\n",
    "plt.xlabel('Coefficient')\n",
    "plt.tight_layout()\n",
    "plt.show()"
   ]
  },
  {
   "cell_type": "markdown",
   "id": "345c043a",
   "metadata": {},
   "source": [
    "## Cross‑validation (StratifiedKFold, ROC‑AUC)"
   ]
  },
  {
   "cell_type": "code",
   "execution_count": null,
   "id": "7337941c",
   "metadata": {},
   "outputs": [],
   "source": [
    "cv = StratifiedKFold(n_splits=5, shuffle=True, random_state=42)\n",
    "scores = cross_val_score(rf, X, y, cv=cv, scoring='roc_auc', n_jobs=None)\n",
    "print('RandomForest ROC‑AUC (5‑fold):', scores.round(3), ' | mean=', scores.mean().round(3))"
   ]
  },
  {
   "cell_type": "markdown",
   "id": "1acee29e",
   "metadata": {},
   "source": [
    "## Takeaways & Next Steps\n",
    "- Typical attrition rate ≈ observed via `AttritionFlag.mean()`\n",
    "- Younger employees, high travel frequency, and lower income bands tend to show **higher attrition**\n",
    "- Baseline models provide a starting point; **Random Forest** generally captures non‑linearities better here\n",
    "\n",
    "**Ideas to improve:**\n",
    "- Hyperparameter tuning (RandomizedSearchCV / GridSearchCV)\n",
    "- Model calibration (CalibratedClassifierCV) if you need well‑calibrated probabilities\n",
    "- Cost‑sensitive thresholds (maximize F1 or Recall depending on HR policy)\n",
    "- SHAP values for richer explainability (if available in your environment)\n"
   ]
  },
  {
   "cell_type": "markdown",
   "id": "f397a345",
   "metadata": {},
   "source": [
    "final chart and conclusion"
   ]
  },
  {
   "cell_type": "code",
   "execution_count": null,
   "id": "d3882b39",
   "metadata": {},
   "outputs": [],
   "source": [
    "# ==========================\n",
    "# 📊 HR Attrition Visualizations + Conclusions\n",
    "# ==========================\n",
    "import matplotlib.pyplot as plt\n",
    "import pandas as pd\n",
    "\n",
    "# Ensure dataset is loaded\n",
    "df = pd.read_csv(\"WA_Fn-UseC_-HR-Employee-Attrition (1).csv\")\n",
    "df['AttritionFlag'] = (df['Attrition'] == 'Yes').astype(int)\n",
    "\n",
    "# Create output folder (optional: keeps charts organized)\n",
    "import os\n",
    "os.makedirs(\"charts\", exist_ok=True)\n",
    "\n",
    "# --- Overall Attrition ---\n",
    "attrition_rate = df['AttritionFlag'].mean() * 100\n",
    "plt.figure(figsize=(5,4))\n",
    "df['Attrition'].value_counts(normalize=True).plot(kind='bar', color=['skyblue','salmon'])\n",
    "plt.title(\"Overall Attrition Rate\")\n",
    "plt.ylabel(\"Proportion\")\n",
    "plt.xticks(rotation=0)\n",
    "plt.tight_layout()\n",
    "plt.savefig(\"charts/overall_attrition.png\")\n",
    "plt.show()\n",
    "\n",
    "# --- Average Tenure ---\n",
    "avg_tenure = df['YearsAtCompany'].mean()\n",
    "plt.figure(figsize=(6,4))\n",
    "plt.hist(df['YearsAtCompany'], bins=20, color=\"skyblue\", edgecolor=\"black\")\n",
    "plt.title(\"Distribution of Years at Company\")\n",
    "plt.xlabel(\"YearsAtCompany\")\n",
    "plt.ylabel(\"Employees\")\n",
    "plt.tight_layout()\n",
    "plt.savefig(\"charts/tenure_distribution.png\")\n",
    "plt.show()\n",
    "\n",
    "# --- Age Distribution ---\n",
    "plt.figure(figsize=(6,4))\n",
    "plt.hist(df['Age'], bins=20, color=\"orange\", edgecolor=\"black\")\n",
    "plt.title(\"Distribution of Employee Age\")\n",
    "plt.xlabel(\"Age\")\n",
    "plt.ylabel(\"Employees\")\n",
    "plt.tight_layout()\n",
    "plt.savefig(\"charts/age_distribution.png\")\n",
    "plt.show()\n",
    "\n",
    "# --- Gender Distribution & Attrition ---\n",
    "gender_attrition = df.groupby(\"Gender\")['AttritionFlag'].mean() * 100\n",
    "plt.figure(figsize=(5,4))\n",
    "gender_attrition.plot(kind=\"bar\", color=['lightgreen','lightcoral'])\n",
    "plt.title(\"Attrition Rate by Gender\")\n",
    "plt.ylabel(\"Attrition Rate (%)\")\n",
    "plt.xticks(rotation=0)\n",
    "plt.tight_layout()\n",
    "plt.savefig(\"charts/gender_attrition.png\")\n",
    "plt.show()\n",
    "\n",
    "# --- Department Distribution & Attrition ---\n",
    "dept_attrition = df.groupby(\"Department\")['AttritionFlag'].mean().sort_values(ascending=False) * 100\n",
    "plt.figure(figsize=(7,4))\n",
    "dept_attrition.plot(kind=\"bar\", color=\"purple\")\n",
    "plt.title(\"Attrition Rate by Department\")\n",
    "plt.ylabel(\"Attrition Rate (%)\")\n",
    "plt.xticks(rotation=15, ha=\"right\")\n",
    "plt.tight_layout()\n",
    "plt.savefig(\"charts/department_attrition.png\")\n",
    "plt.show()\n",
    "\n",
    "# --- Monthly Income vs Attrition ---\n",
    "plt.figure(figsize=(6,4))\n",
    "df.boxplot(column=\"MonthlyIncome\", by=\"Attrition\", grid=False)\n",
    "plt.title(\"Monthly Income by Attrition\")\n",
    "plt.suptitle(\"\")\n",
    "plt.ylabel(\"Monthly Income\")\n",
    "plt.tight_layout()\n",
    "plt.savefig(\"charts/income_attrition.png\")\n",
    "plt.show()\n",
    "\n",
    "# --- Conclusions ---\n",
    "conclusions = f\"\"\"\n",
    "### Key Findings from IBM HR Attrition Analysis\n",
    "\n",
    "1. **Overall Attrition Rate**: {attrition_rate:.2f}% (~1 in 6 employees left)\n",
    "2. **Average Tenure**: Employees stayed ~{avg_tenure:.1f} years before leaving\n",
    "3. **Age Factor**: Higher attrition in employees <30\n",
    "4. **Gender Factor**: Slightly higher attrition among males\n",
    "5. **Department Factor**: Sales shows highest attrition\n",
    "6. **Income Factor**: Lower-paid employees more likely to leave\n",
    "\n",
    "### Conclusions\n",
    "- Attrition is moderate but concerning at 16%\n",
    "- Early-career employees and Sales staff are at higher risk\n",
    "- Low salary, frequent travel, poor work-life balance drive attrition\n",
    "- Stronger retention programs, fair pay, and work-life initiatives are needed\n",
    "\"\"\"\n",
    "\n",
    "with open(\"charts/attrition_conclusions.txt\", \"w\", encoding=\"utf-8\") as f:\n",
    "    f.write(conclusions)\n",
    "\n",
    "print(conclusions)\n"
   ]
  }
 ],
 "metadata": {
  "kernelspec": {
   "display_name": "Python 3",
   "language": "python",
   "name": "python3"
  },
  "language_info": {
   "name": "python",
   "version": "3.x"
  }
 },
 "nbformat": 4,
 "nbformat_minor": 5
}
